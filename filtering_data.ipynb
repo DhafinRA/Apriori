{
 "cells": [
  {
   "cell_type": "code",
   "execution_count": 17,
   "metadata": {},
   "outputs": [],
   "source": [
    "import pandas as pd \n",
    "import os\n"
   ]
  },
  {
   "cell_type": "code",
   "execution_count": 18,
   "metadata": {},
   "outputs": [],
   "source": [
    "folder_name = 'data'"
   ]
  },
  {
   "cell_type": "code",
   "execution_count": null,
   "metadata": {},
   "outputs": [],
   "source": [
    "# Baca file\n",
    "df = pd.read_csv('https://raw.githubusercontent.com/DhafinRA/Apriori/refs/heads/main/servis_bebek.csv')\n",
    "\n",
    "# Gabungkan items berdasarkan ServTransCode\n",
    "result = df.groupby('ServTransCode')['Items'].apply(', '.join).reset_index()\n",
    "\n",
    "# Simpan file ke dalam folder data\n",
    "file_path = os.path.join(folder_name, 'filtered_data.xlsx')\n",
    "result.to_excel(file_path, index=False)\n"
   ]
  },
  {
   "cell_type": "code",
   "execution_count": null,
   "metadata": {},
   "outputs": [],
   "source": [
    "#baca file\n",
    "data_path = 'data/sorted_asosiasi.xlsx'\n",
    "df = pd.read_excel(data_path)\n",
    "\n",
    "#mengubah data string \n",
    "df['antecedents'] = df['antecedents'].apply(lambda x: ','.join(eval(x)))\n",
    "df['consequents'] = df['consequents'].apply(lambda x: ','.join(eval(x)))\n",
    "\n",
    "#simpan hasil\n",
    "file_path = os.path.join(folder_name, 'sorted_asosiasi_cleaned.xlsx')\n",
    "df.to_excel(file_path, index=False)"
   ]
  }
 ],
 "metadata": {
  "kernelspec": {
   "display_name": "tf2",
   "language": "python",
   "name": "python3"
  },
  "language_info": {
   "codemirror_mode": {
    "name": "ipython",
    "version": 3
   },
   "file_extension": ".py",
   "mimetype": "text/x-python",
   "name": "python",
   "nbconvert_exporter": "python",
   "pygments_lexer": "ipython3",
   "version": "3.9.19"
  }
 },
 "nbformat": 4,
 "nbformat_minor": 2
}
