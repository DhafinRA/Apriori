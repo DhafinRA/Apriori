{
 "cells": [
  {
   "cell_type": "code",
   "execution_count": 11,
   "metadata": {},
   "outputs": [],
   "source": [
    "import pandas as pd \n",
    "import os\n"
   ]
  },
  {
   "cell_type": "code",
   "execution_count": 43,
   "metadata": {},
   "outputs": [],
   "source": [
    "folder_name = 'data/Hasil'"
   ]
  },
  {
   "cell_type": "code",
   "execution_count": 41,
   "metadata": {},
   "outputs": [
    {
     "data": {
      "text/html": [
       "<div>\n",
       "<style scoped>\n",
       "    .dataframe tbody tr th:only-of-type {\n",
       "        vertical-align: middle;\n",
       "    }\n",
       "\n",
       "    .dataframe tbody tr th {\n",
       "        vertical-align: top;\n",
       "    }\n",
       "\n",
       "    .dataframe thead th {\n",
       "        text-align: right;\n",
       "    }\n",
       "</style>\n",
       "<table border=\"1\" class=\"dataframe\">\n",
       "  <thead>\n",
       "    <tr style=\"text-align: right;\">\n",
       "      <th></th>\n",
       "      <th>ServTransCode</th>\n",
       "      <th>ServTransDate</th>\n",
       "      <th>Items</th>\n",
       "      <th>Group</th>\n",
       "      <th>NameOfServ</th>\n",
       "      <th>Qty</th>\n",
       "    </tr>\n",
       "  </thead>\n",
       "  <tbody>\n",
       "    <tr>\n",
       "      <th>0</th>\n",
       "      <td>SRV062001020011</td>\n",
       "      <td>1/2/2020</td>\n",
       "      <td>Dispad Belakang Cb 150 R</td>\n",
       "      <td>DISPAD</td>\n",
       "      <td>PASANG KAMPAS</td>\n",
       "      <td>1</td>\n",
       "    </tr>\n",
       "    <tr>\n",
       "      <th>1</th>\n",
       "      <td>SRV002001020007</td>\n",
       "      <td>1/2/2020</td>\n",
       "      <td>Grease Cvt</td>\n",
       "      <td>GREASE</td>\n",
       "      <td>SERVICE GARDAN</td>\n",
       "      <td>1</td>\n",
       "    </tr>\n",
       "    <tr>\n",
       "      <th>2</th>\n",
       "      <td>SRV062001020004</td>\n",
       "      <td>1/2/2020</td>\n",
       "      <td>Dispad Depan Supra X</td>\n",
       "      <td>DISPAD</td>\n",
       "      <td>GANTI KAMPAS DEPAN CAKRAM</td>\n",
       "      <td>1</td>\n",
       "    </tr>\n",
       "    <tr>\n",
       "      <th>3</th>\n",
       "      <td>SRV062001020001</td>\n",
       "      <td>1/2/2020</td>\n",
       "      <td>Oli Gardan AHM 120 mL (Putih)</td>\n",
       "      <td>OLI GARDAN</td>\n",
       "      <td>JASA GANTI OLI MESIN+GARDAN</td>\n",
       "      <td>1</td>\n",
       "    </tr>\n",
       "    <tr>\n",
       "      <th>4</th>\n",
       "      <td>SRV012001020022</td>\n",
       "      <td>1/2/2020</td>\n",
       "      <td>Dispad Depan Vario CBS/Beat New</td>\n",
       "      <td>DISPAD</td>\n",
       "      <td>JASA SERVICE KAMPAS</td>\n",
       "      <td>1</td>\n",
       "    </tr>\n",
       "  </tbody>\n",
       "</table>\n",
       "</div>"
      ],
      "text/plain": [
       "     ServTransCode ServTransDate                            Items       Group  \\\n",
       "0  SRV062001020011      1/2/2020         Dispad Belakang Cb 150 R      DISPAD   \n",
       "1  SRV002001020007      1/2/2020                       Grease Cvt      GREASE   \n",
       "2  SRV062001020004      1/2/2020             Dispad Depan Supra X      DISPAD   \n",
       "3  SRV062001020001      1/2/2020    Oli Gardan AHM 120 mL (Putih)  OLI GARDAN   \n",
       "4  SRV012001020022      1/2/2020  Dispad Depan Vario CBS/Beat New      DISPAD   \n",
       "\n",
       "                    NameOfServ  Qty  \n",
       "0                PASANG KAMPAS    1  \n",
       "1               SERVICE GARDAN    1  \n",
       "2    GANTI KAMPAS DEPAN CAKRAM    1  \n",
       "3  JASA GANTI OLI MESIN+GARDAN    1  \n",
       "4          JASA SERVICE KAMPAS    1  "
      ]
     },
     "execution_count": 41,
     "metadata": {},
     "output_type": "execute_result"
    }
   ],
   "source": [
    "#merge data all year\n",
    "file_paths = [ r'data\\All Year\\2020.csv', r'data\\All Year\\2021.csv', r'data\\All Year\\2022.csv', r'data\\All Year\\2023.csv']\n",
    "df = [pd.read_csv(file_path) for file_path in file_paths]\n",
    "df_merge = pd.concat(df, ignore_index=True)\n",
    "\n",
    "df_merge.head()"
   ]
  },
  {
   "cell_type": "code",
   "execution_count": 46,
   "metadata": {},
   "outputs": [],
   "source": [
    "# Gabungkan items berdasarkan ServTransCode\n",
    "result = df_merge.groupby('ServTransCode')['Items'].apply(', '.join).reset_index()\n",
    "\n",
    "# Simpan file ke dalam folder data\n",
    "path = os.path.join(folder_name, 'filtered_data.xlsx')\n",
    "result.to_excel(path, index=False)\n"
   ]
  },
  {
   "cell_type": "code",
   "execution_count": 40,
   "metadata": {},
   "outputs": [],
   "source": [
    "#baca file\n",
    "data_path = 'data/Hasil/filtered_data.xlsx'\n",
    "df = pd.read_excel(data_path)\n",
    "\n",
    "# #mengubah data string \n",
    "# df['antecedents'] = df['antecedents'].apply(lambda x: ','.join(eval(x)))\n",
    "# df['consequents'] = df['consequents'].apply(lambda x: ','.join(eval(x)))\n",
    "# df['itemsets'] = df['itemsets'].apply(lambda x: ','.join(eval(x)))\n",
    "\n",
    "#simpan hasil\n",
    "file_path = os.path.join(folder_name, 'sorted_asosiasi_2023_cleaned.xlsx')\n",
    "df.to_excel(file_path, index=False)"
   ]
  }
 ],
 "metadata": {
  "kernelspec": {
   "display_name": "tf2",
   "language": "python",
   "name": "python3"
  },
  "language_info": {
   "codemirror_mode": {
    "name": "ipython",
    "version": 3
   },
   "file_extension": ".py",
   "mimetype": "text/x-python",
   "name": "python",
   "nbconvert_exporter": "python",
   "pygments_lexer": "ipython3",
   "version": "3.9.19"
  }
 },
 "nbformat": 4,
 "nbformat_minor": 2
}
